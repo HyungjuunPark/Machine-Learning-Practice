{
 "cells": [
  {
   "cell_type": "code",
   "execution_count": 1,
   "id": "943c607b",
   "metadata": {},
   "outputs": [
    {
     "name": "stderr",
     "output_type": "stream",
     "text": [
      "/home/ec2-user/anaconda3/envs/python3/lib/python3.10/site-packages/pandas/core/computation/expressions.py:21: UserWarning: Pandas requires version '2.8.0' or newer of 'numexpr' (version '2.7.3' currently installed).\n",
      "  from pandas.core.computation.check import NUMEXPR_INSTALLED\n"
     ]
    },
    {
     "name": "stdout",
     "output_type": "stream",
     "text": [
      "sagemaker.config INFO - Not applying SDK defaults from location: /etc/xdg/sagemaker/config.yaml\n",
      "sagemaker.config INFO - Not applying SDK defaults from location: /home/ec2-user/.config/sagemaker/config.yaml\n"
     ]
    },
    {
     "name": "stderr",
     "output_type": "stream",
     "text": [
      "/home/ec2-user/anaconda3/envs/python3/lib/python3.10/site-packages/sklearn/cluster/_kmeans.py:1416: FutureWarning: The default value of `n_init` will change from 10 to 'auto' in 1.4. Set the value of `n_init` explicitly to suppress the warning\n",
      "  super()._check_params_vs_input(X, default_n_init=10)\n"
     ]
    }
   ],
   "source": [
    "import boto3\n",
    "import sagemaker\n",
    "import io\n",
    "\n",
    "import pandas as pd\n",
    "import numpy as np\n",
    "\n",
    "s3_client = boto3.client('s3')\n",
    "s3_bucket_name = 'awsml-sagemaker-test-source629'\n",
    "\n",
    "response = s3_client.get_object(Bucket='awsml-sagemaker-test-source629', Key='iris_train.csv')\n",
    "response_body = response[\"Body\"].read()\n",
    "df_iris_train = pd.read_csv(io.BytesIO(response_body), header=0, delimiter=\",\", low_memory=False)\n",
    "\n",
    "response = s3_client.get_object(Bucket='awsml-sagemaker-test-source629', Key='iris_test.csv')\n",
    "response_body = response[\"Body\"].read()\n",
    "df_iris_test = pd.read_csv(io.BytesIO(response_body), header=0, index_col=False, delimiter=\",\", low_memory=False)\n",
    "\n",
    "df_iris_features_train = df_iris_train.iloc[:,1:]\n",
    "df_iris_target_train = df_iris_train.iloc[:,0]\n",
    "\n",
    "df_iris_features_test = df_iris_test.iloc[:,1:]\n",
    "df_iris_target_test = df_iris_test.iloc[:,0]\n",
    "\n",
    "from sklearn.cluster import KMeans\n",
    "\n",
    "kmeans_model = KMeans(n_clusters=3)\n",
    "kmeans_model.fit(df_iris_features_train)\n",
    "\n",
    "kmeans_predictions = kmeans_model.predict(df_iris_features_test)"
   ]
  },
  {
   "cell_type": "code",
   "execution_count": 2,
   "id": "1c43ce5b",
   "metadata": {},
   "outputs": [
    {
     "name": "stdout",
     "output_type": "stream",
     "text": [
      "[1 2 0 2 2 2 2 0 2 2 0 1 2 1 0 1 1 0 0 0 2 1 2 2 2 2 2 2 1 2 1 2 1 1 2 2 2\n",
      " 0]\n"
     ]
    }
   ],
   "source": [
    "print(kmeans_predictions)"
   ]
  },
  {
   "cell_type": "code",
   "execution_count": 3,
   "id": "79a91572",
   "metadata": {
    "scrolled": false
   },
   "outputs": [
    {
     "name": "stdout",
     "output_type": "stream",
     "text": [
      "['Iris-setosa' 'Iris-versicolor' 'Iris-virginica' 'Iris-versicolor'\n",
      " 'Iris-virginica' 'Iris-virginica' 'Iris-versicolor' 'Iris-virginica'\n",
      " 'Iris-versicolor' 'Iris-virginica' 'Iris-virginica' 'Iris-setosa'\n",
      " 'Iris-versicolor' 'Iris-setosa' 'Iris-virginica' 'Iris-setosa'\n",
      " 'Iris-setosa' 'Iris-virginica' 'Iris-virginica' 'Iris-virginica'\n",
      " 'Iris-virginica' 'Iris-setosa' 'Iris-virginica' 'Iris-versicolor'\n",
      " 'Iris-versicolor' 'Iris-versicolor' 'Iris-versicolor' 'Iris-versicolor'\n",
      " 'Iris-setosa' 'Iris-versicolor' 'Iris-setosa' 'Iris-versicolor'\n",
      " 'Iris-setosa' 'Iris-setosa' 'Iris-versicolor' 'Iris-versicolor'\n",
      " 'Iris-versicolor' 'Iris-virginica']\n"
     ]
    }
   ],
   "source": [
    "print(df_iris_target_test.values.ravel())"
   ]
  },
  {
   "cell_type": "code",
   "execution_count": 4,
   "id": "5a4dff47",
   "metadata": {},
   "outputs": [],
   "source": [
    "from sklearn.preprocessing import LabelEncoder\n",
    "labelEncoder = LabelEncoder()\n",
    "labelEncoder.fit(df_iris_target_test)\n",
    "df_iris_target_test = labelEncoder.transform(df_iris_target_test)\n",
    "\n",
    "from sklearn.metrics import confusion_matrix, accuracy_score\n",
    "cm_kmeans = confusion_matrix(df_iris_target_test, kmeans_predictions)\n",
    "acc_kmeans = accuracy_score(df_iris_target_test, kmeans_predictions)"
   ]
  },
  {
   "cell_type": "code",
   "execution_count": 6,
   "id": "3aedc66e",
   "metadata": {},
   "outputs": [
    {
     "name": "stdout",
     "output_type": "stream",
     "text": [
      "[[ 0 10  0]\n",
      " [ 0  0 15]\n",
      " [ 8  0  5]]\n",
      "0.13157894736842105\n"
     ]
    }
   ],
   "source": [
    "print(cm_kmeans)\n",
    "print(acc_kmeans)"
   ]
  }
 ],
 "metadata": {
  "kernelspec": {
   "display_name": "conda_python3",
   "language": "python",
   "name": "conda_python3"
  },
  "language_info": {
   "codemirror_mode": {
    "name": "ipython",
    "version": 3
   },
   "file_extension": ".py",
   "mimetype": "text/x-python",
   "name": "python",
   "nbconvert_exporter": "python",
   "pygments_lexer": "ipython3",
   "version": "3.10.13"
  }
 },
 "nbformat": 4,
 "nbformat_minor": 5
}
